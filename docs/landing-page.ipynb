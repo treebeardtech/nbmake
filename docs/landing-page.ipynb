{
 "cells": [
  {
   "cell_type": "markdown",
   "metadata": {},
   "source": [
    "# nbmake"
   ]
  },
  {
   "cell_type": "markdown",
   "metadata": {},
   "source": [
    "This tool is primarily for developers who need to test notebook documentation containing large amounts of non-deterministic code.\n",
    "\n",
    "Despite being a pytest plugin, nbmake is kernel agnostic. It supports any language."
   ]
  },
  {
   "cell_type": "markdown",
   "metadata": {},
   "source": [
    "\n",
    "## Quickstart\n",
    "\n",
    "```bash\n",
    "pip install pytest nbmake\n",
    "pytest --nbmake\n",
    "```\n",
    "\n",
    "```\n",
    "...\n",
    "\n",
    "2020-12-08 11:42:41 Built test report (Open in browser).\n",
    "\n",
    "  file:///nbmake/2a5b8bdf-4161-45b2-b9e2-433479c20004/_build/html/index.html\n",
    "\n",
    "\n",
    "===================================================================================== 2 passed in 14.56s ======================================================================================\n",
    "```"
   ]
  },
  {
   "cell_type": "markdown",
   "metadata": {},
   "source": [
    "## Command Line Options\n",
    "\n",
    "Using the following options you can control how notebooks are executed, and configure CI pipelines"
   ]
  },
  {
   "cell_type": "code",
   "execution_count": null,
   "metadata": {
    "tags": [
     "hide-input"
    ]
   },
   "outputs": [],
   "source": [
    "!pytest -h | grep -A7 'notebook testing'"
   ]
  },
  {
   "cell_type": "markdown",
   "metadata": {},
   "source": [
    "## Run Only Against IPYNB Files\n",
    "\n",
    "```\n",
    "pytest --nbmake **/*ipynb\n",
    "```"
   ]
  },
  {
   "cell_type": "markdown",
   "metadata": {},
   "source": [
    "## Disable Nbmake\n",
    "\n",
    "Implicitly:\n",
    "```\n",
    "pytest\n",
    "```\n",
    "\n",
    "Explicitly:\n",
    "```\n",
    "pytest -p no:nbmake\n",
    "```"
   ]
  },
  {
   "cell_type": "markdown",
   "metadata": {},
   "source": [
    "## Run and upload report on GitHub Actions using Netlify\n",
    "\n",
    "```yaml\n",
    "    - run: pip install pytest nbmake\n",
    "    - run: |\n",
    "        pytest\n",
    "    - if: failure()\n",
    "    run: |\n",
    "        netlify deploy --dir=_build/html --auth=${{ secrets.NETLIFY_TOKEN }} --site=${{ secrets.NETLIFY_SITE_API_ID }}\n",
    "```\n",
    "```\n",
    "...\n",
    "- Waiting for deploy to go live...\n",
    "✔ Deploy is live!\n",
    "\n",
    "Logs:              https://app.netlify.com/sites/festive-payne-ce084c/deploys/5fcf58ec72dc52a440dffcd7\n",
    "Website Draft URL: https://5fcf58ec72dc52a440dffcd7--festive-payne-ce084c.netlify.app\n",
    "```"
   ]
  },
  {
   "cell_type": "markdown",
   "metadata": {},
   "source": [
    "## Allow errors\n",
    "\n",
    "See [Jupyter Book docs](https://jupyterbook.org/customize/config.html#configuration-defaults) on customising execution "
   ]
  },
  {
   "cell_type": "markdown",
   "metadata": {},
   "source": [
    "## Parallelisation\n",
    "\n",
    "At the pytest level, parallelisation with xdist is [WIP](https://github.com/treebeardtech/nbmake/milestone/1).\n",
    "\n",
    "It is possible to parallelise at a CI-level, see [example](https://github.com/LabForComputationalVision/plenoptic/blob/master/.github/workflows/treebeard.yml)"
   ]
  },
  {
   "cell_type": "markdown",
   "metadata": {},
   "source": [
    "## Advice on Usage\n",
    "\n",
    "nbmake is best used in a scenario where you use the ipynb files only for development. Consumption of notebooks is primarily done via a docs site, built through jupyter book, nbsphinx, or some other means. If using one of these tools, you are able to write assertion code in cells which will be [hidden from readers](https://jupyterbook.org/interactive/hiding.html).\n",
    "\n",
    "### Pre-commit\n",
    "\n",
    "Treating notebooks like source files lets you keep your repo minimal. Some tools, such as plotly may drop several megabytes of javascript in your output cells, as a result, stripping out notebooks on pre-commit is advisable:\n",
    "\n",
    "```\n",
    "# .pre-commit-config.yaml\n",
    "repos:\n",
    "  - repo: https://github.com/kynan/nbstripout\n",
    "    rev: master\n",
    "    hooks:\n",
    "      - id: nbstripout\n",
    "```\n",
    "\n",
    "See https://pre-commit.com/ for more..."
   ]
  },
  {
   "cell_type": "markdown",
   "metadata": {},
   "source": [
    "## Contributing\n",
    "\n",
    "Feedback is the best contribution you can make as a user of this tool. Join the [Slack channel](https://treebeard.io/joinslack) and bug me (Alex), and raise an [issue](https://github.com/treebeardtech/nbmake/issues), even if you think you are the only person with this problem."
   ]
  },
  {
   "cell_type": "markdown",
   "metadata": {},
   "source": [
    "## See Also:\n",
    "\n",
    "* [nbmake action](https://pytest.org/)\n",
    "* [pytest](https://pytest.org/)\n",
    "* [jupyter book](https://github.com/executablebooks/jupyter-book)\n",
    "* [jupyter cache](https://github.com/executablebooks/jupyter-cache)\n",
    "* [MyST-NB](https://github.com/executablebooks/MyST-NB)\n"
   ]
  }
 ],
 "metadata": {
  "kernelspec": {
   "display_name": "nbmake",
   "name": "nbmake"
  },
  "language_info": {
   "codemirror_mode": {
    "name": "ipython",
    "version": 3
   },
   "file_extension": ".py",
   "mimetype": "text/x-python",
   "name": "python",
   "nbconvert_exporter": "python",
   "pygments_lexer": "ipython3",
   "version": "3.7.6-final"
  }
 },
 "nbformat": 4,
 "nbformat_minor": 2
}
