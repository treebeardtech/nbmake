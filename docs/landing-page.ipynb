{
 "cells": [
  {
   "cell_type": "markdown",
   "metadata": {},
   "source": [
    "# nbmake"
   ]
  },
  {
   "cell_type": "markdown",
   "metadata": {},
   "source": [
    "See the README for details: \n",
    "\n",
    "https://github.com/treebeardtech/nbmake"
   ]
  }
 ],
 "metadata": {
  "kernelspec": {
   "display_name": "nbmake",
   "language": "python",
   "name": "nbmake"
  },
  "language_info": {
   "codemirror_mode": {
    "name": "ipython",
    "version": 3
   },
   "file_extension": ".py",
   "mimetype": "text/x-python",
   "name": "python",
   "nbconvert_exporter": "python",
   "pygments_lexer": "ipython3",
   "version": "3.7.6-final"
  }
 },
 "nbformat": 4,
 "nbformat_minor": 2
}
