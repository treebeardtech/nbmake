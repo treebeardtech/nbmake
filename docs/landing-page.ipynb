{
 "cells": [
  {
   "cell_type": "markdown",
   "metadata": {},
   "source": [
    "# nbmake"
   ]
  },
  {
   "cell_type": "markdown",
   "metadata": {},
   "source": [
    "This tool is primarily for developers who need to test notebook documentation containing large amounts of non-deterministic code.\n",
    "\n",
    "Despite being a pytest plugin, nbmake is kernel agnostic. It supports any language."
   ]
  },
  {
   "cell_type": "markdown",
   "metadata": {},
   "source": [
    "\n",
    "## Quickstart\n",
    "\n",
    "```bash\n",
    "pip install pytest nbmake\n",
    "pytest --nbmake\n",
    "```\n",
    "\n",
    "```\n",
    "...\n",
    "\n",
    "2020-12-08 11:42:41 Built test report (Open in browser).\n",
    "\n",
    "  file:///nbmake/2a5b8bdf-4161-45b2-b9e2-433479c20004/_build/html/index.html\n",
    "\n",
    "\n",
    "===================================================================================== 2 passed in 14.56s ======================================================================================\n",
    "```"
   ]
  },
  {
   "cell_type": "markdown",
   "metadata": {},
   "source": [
    "## Command Line Options\n",
    "\n",
    "Using the following options you can control how notebooks are executed, and configure CI pipelines"
   ]
  },
  {
   "cell_type": "code",
   "execution_count": null,
   "metadata": {
    "tags": [
     "hide-input"
    ]
   },
   "outputs": [],
   "source": [
    "!pytest -h | grep -A8 'notebook testing'"
   ]
  },
  {
   "cell_type": "markdown",
   "metadata": {},
   "source": [
    "## Run Only Against IPYNB Files\n",
    "\n",
    "```\n",
    "pytest --nbmake **/*ipynb\n",
    "```"
   ]
  },
  {
   "cell_type": "markdown",
   "metadata": {},
   "source": [
    "## Disable Nbmake\n",
    "\n",
    "Implicitly:\n",
    "```\n",
    "pytest\n",
    "```\n",
    "\n",
    "Explicitly:\n",
    "```\n",
    "pytest -p no:nbmake\n",
    "```"
   ]
  },
  {
   "cell_type": "markdown",
   "metadata": {},
   "source": [
    "## Run and upload report on GitHub Actions using Netlify\n",
    "\n",
    "```yaml\n",
    "    - run: pip install pytest nbmake\n",
    "    - run: |\n",
    "        pytest\n",
    "    - if: failure()\n",
    "    run: |\n",
    "        netlify deploy --dir=_build/html --auth=${{ secrets.NETLIFY_TOKEN }} --site=${{ secrets.NETLIFY_SITE_API_ID }}\n",
    "```\n",
    "```\n",
    "...\n",
    "- Waiting for deploy to go live...\n",
    "✔ Deploy is live!\n",
    "\n",
    "Logs:              https://app.netlify.com/sites/festive-payne-ce084c/deploys/5fcf58ec72dc52a440dffcd7\n",
    "Website Draft URL: https://5fcf58ec72dc52a440dffcd7--festive-payne-ce084c.netlify.app\n",
    "```"
   ]
  },
  {
   "cell_type": "markdown",
   "metadata": {},
   "source": [
    "## Allow errors\n",
    "\n",
    "See [Jupyter Book docs](https://jupyterbook.org/customize/config.html#configuration-defaults) on customising execution "
   ]
  }
 ],
 "metadata": {
  "kernelspec": {
   "display_name": "nbmake",
   "name": "nbmake"
  },
  "language_info": {
   "codemirror_mode": {
    "name": "ipython",
    "version": 3
   },
   "file_extension": ".py",
   "mimetype": "text/x-python",
   "name": "python",
   "nbconvert_exporter": "python",
   "pygments_lexer": "ipython3",
   "version": "3.7.6-final"
  }
 },
 "nbformat": 4,
 "nbformat_minor": 2
}
