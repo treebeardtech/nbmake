{
 "cells": [
  {
   "cell_type": "markdown",
   "metadata": {},
   "source": [
    "# nbmake"
   ]
  },
  {
   "cell_type": "markdown",
   "metadata": {},
   "source": [
    "\n",
    "## Usage\n",
    "\n",
    "### Quickstart\n",
    "\n",
    "```bash\n",
    "pip install pytest nbmake\n",
    "pytest --nbmake\n",
    "```\n",
    "\n",
    "### Parallelise\n",
    "\n",
    "```bash\n",
    "pip install pytest-xdist\n",
    "pytest --nbmake -n=auto\n",
    "```\n",
    "\n",
    "### Pre-cache your Jupyter Book\n",
    "\n",
    "```bash\n",
    "pytest --nbmake --jbconfig=_config.yml\n",
    "jb build .\n",
    "```"
   ]
  }
 ],
 "metadata": {
  "kernelspec": {
   "display_name": "Python 3",
   "name": "python3"
  },
  "language_info": {
   "codemirror_mode": {
    "name": "ipython",
    "version": 3
   },
   "file_extension": ".py",
   "mimetype": "text/x-python",
   "name": "python",
   "nbconvert_exporter": "python",
   "pygments_lexer": "ipython3",
   "version": "3.7.6-final"
  }
 },
 "nbformat": 4,
 "nbformat_minor": 2
}
