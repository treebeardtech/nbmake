{
 "cells": [
  {
   "cell_type": "code",
   "execution_count": 1,
   "metadata": {
    "execution": {
     "iopub.execute_input": "2020-11-23T16:37:37.423982Z",
     "iopub.status.busy": "2020-11-23T16:37:37.423125Z",
     "iopub.status.idle": "2020-11-23T16:37:37.426328Z",
     "shell.execute_reply": "2020-11-23T16:37:37.426863Z"
    },
    "papermill": {
     "duration": 0.013078,
     "end_time": "2020-11-23T16:37:37.427121",
     "exception": false,
     "start_time": "2020-11-23T16:37:37.414043",
     "status": "completed"
    },
    "tags": []
   },
   "outputs": [
    {
     "name": "stdout",
     "output_type": "stream",
     "text": [
      "Hello\n"
     ]
    }
   ],
   "source": [
    "a = 1"
   ]
  },
  {
   "cell_type": "code",
   "execution_count": null,
   "metadata": {},
   "outputs": [],
   "source": [
    "b = a + 1"
   ]
  }
 ],
 "metadata": {
  "language_info": {
   "codemirror_mode": {
    "name": "ipython",
    "version": 3
   },
   "file_extension": ".py",
   "mimetype": "text/x-python",
   "name": "python",
   "nbconvert_exporter": "python",
   "pygments_lexer": "ipython3",
   "version": "3.7.6"
  },
  "papermill": {
   "default_parameters": {},
   "duration": 0.876306,
   "end_time": "2020-11-23T16:37:37.642673",
   "environment_variables": {},
   "exception": null,
   "input_path": "tests/resources/passing.ipynb",
   "output_path": "tests/resources/passing.ipynb",
   "parameters": {},
   "start_time": "2020-11-23T16:37:36.766367",
   "version": "2.2.2"
  }
 },
 "nbformat": 4,
 "nbformat_minor": 2
}