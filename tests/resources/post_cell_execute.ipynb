{
 "cells": [
  {
   "cell_type": "code",
   "execution_count": null,
   "metadata": {
    "nbmake": {
     "post_cell_execute": [
      "y = 3",
      "z = x+y"
     ]
    }
   },
   "outputs": [],
   "source": [
    "x = 1\n",
    "y = 2\n",
    "z = 0\n",
    "# this cell has a post_cell_execute that assigns y and z"
   ]
  },
  {
   "cell_type": "code",
   "execution_count": null,
   "metadata": {},
   "outputs": [],
   "source": [
    "assert y == 3\n",
    "assert z == 4"
   ]
  }
 ],
 "metadata": {
  "kernelspec": {
   "display_name": ".venv",
   "language": "python",
   "name": "python3"
  },
  "language_info": {
   "name": "python",
   "version": "3.10.5"
  },
  "vscode": {
   "interpreter": {
    "hash": "b62bdd1a52024cb952ae76a82719d36933eb1b9c8ddb26512ead942ee2142676"
   }
  }
 },
 "nbformat": 4,
 "nbformat_minor": 2
}
